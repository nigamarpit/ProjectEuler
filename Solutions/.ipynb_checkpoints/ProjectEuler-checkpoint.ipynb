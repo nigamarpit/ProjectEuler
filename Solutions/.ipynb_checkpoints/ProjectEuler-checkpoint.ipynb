{
 "cells": [
  {
   "cell_type": "markdown",
   "metadata": {},
   "source": [
    "# Problem 24"
   ]
  },
  {
   "cell_type": "markdown",
   "metadata": {},
   "source": [
    "A permutation is an ordered arrangement of objects. For example, 3124 is one possible permutation of the digits 1, 2, 3 and 4. If all of the permutations are listed numerically or alphabetically, we call it lexicographic order. The lexicographic permutations of 0, 1 and 2 are:\n",
    "\n",
    "012   021   102   120   201   210\n",
    "\n",
    "What is the millionth lexicographic permutation of the digits 0, 1, 2, 3, 4, 5, 6, 7, 8 and 9?"
   ]
  },
  {
   "cell_type": "code",
   "execution_count": 3,
   "metadata": {
    "collapsed": false
   },
   "outputs": [
    {
     "name": "stdout",
     "output_type": "stream",
     "text": [
      "Millionth lexicographic permutation of the digits 0, 1, 2, 3, 4, 5, 6, 7, 8 and 9: 2783915460\n"
     ]
    }
   ],
   "source": [
    "import itertools as it\n",
    "def lexicographicPermutations():\n",
    "\tl=list(range(10))\n",
    "\tr=[''.join(map(str,x)) for x in list(it.permutations(l))]\n",
    "\t#print(len(r))\n",
    "\tprint(\"Millionth lexicographic permutation of the digits 0, 1, 2, 3, 4, 5, 6, 7, 8 and 9: \"+r[999999])\n",
    "lexicographicPermutations()"
   ]
  },
  {
   "cell_type": "markdown",
   "metadata": {
    "collapsed": true
   },
   "source": [
    "# Problem 25"
   ]
  },
  {
   "cell_type": "markdown",
   "metadata": {},
   "source": [
    "The Fibonacci sequence is defined by the recurrence relation:\n",
    "\n",
    "Fn = Fn−1 + Fn−2, where F1 = 1 and F2 = 1.\n",
    "Hence the first 12 terms will be:\n",
    "\n",
    "F1 = 1\n",
    "\n",
    "F2 = 1\n",
    "\n",
    "F3 = 2\n",
    "\n",
    "F4 = 3\n",
    "\n",
    "F5 = 5\n",
    "\n",
    "F6 = 8\n",
    "\n",
    "F7 = 13\n",
    "\n",
    "F8 = 21\n",
    "\n",
    "F9 = 34\n",
    "\n",
    "F10 = 55\n",
    "\n",
    "F11 = 89\n",
    "\n",
    "F12 = 144\n",
    "\n",
    "The 12th term, F12, is the first term to contain three digits.\n",
    "\n",
    "What is the index of the first term in the Fibonacci sequence to contain 1000 digits?"
   ]
  },
  {
   "cell_type": "code",
   "execution_count": 5,
   "metadata": {
    "collapsed": false
   },
   "outputs": [
    {
     "name": "stdout",
     "output_type": "stream",
     "text": [
      "Index of the first term in the Fibonacci sequence to contain 1000 digits: 4782\n"
     ]
    }
   ],
   "source": [
    "def fibonacciSequence():\n",
    "\told=1\n",
    "\tcurrent=1\n",
    "\tnew=0\n",
    "\ti=2\n",
    "\twhile True:\n",
    "\t\ti+=1\n",
    "\t\tnew=old+current\n",
    "\t\tif checkLength(new):\n",
    "\t\t\tbreak\n",
    "\t\told=current\n",
    "\t\tcurrent=new\n",
    "\treturn i\n",
    "\n",
    "def checkLength(n):\n",
    "\tif len(str(n))==1000:\n",
    "\t\treturn True\n",
    "\telse:\n",
    "\t\treturn False\n",
    "\n",
    "print(\"Index of the first term in the Fibonacci sequence to contain 1000 digits: \"+str(fibonacciSequence()))"
   ]
  },
  {
   "cell_type": "markdown",
   "metadata": {
    "collapsed": true
   },
   "source": [
    "# Problem 26"
   ]
  },
  {
   "cell_type": "markdown",
   "metadata": {},
   "source": [
    "A unit fraction contains 1 in the numerator. The decimal representation of the unit fractions with denominators 2 to 10 are given:\n",
    "\n",
    "1/2\t= \t0.5\n",
    "1/3\t= \t0.(3)\n",
    "1/4\t= \t0.25\n",
    "1/5\t= \t0.2\n",
    "1/6\t= \t0.1(6)\n",
    "1/7\t= \t0.(142857)\n",
    "1/8\t= \t0.125\n",
    "1/9\t= \t0.(1)\n",
    "1/10\t= \t0.1\n",
    "Where 0.1(6) means 0.166666..., and has a 1-digit recurring cycle. It can be seen that 1/7 has a 6-digit recurring cycle.\n",
    "\n",
    "Find the value of d < 1000 for which 1/d contains the longest recurring cycle in its decimal fraction part."
   ]
  },
  {
   "cell_type": "code",
   "execution_count": 6,
   "metadata": {
    "collapsed": false
   },
   "outputs": [
    {
     "name": "stdout",
     "output_type": "stream",
     "text": [
      "983\n"
     ]
    }
   ],
   "source": [
    "def cycleLength(n):\n",
    "\tres = 10\n",
    "\tj = 0\n",
    "\twhile res != 10 or j < 1:\n",
    "\t\tres = (res % n) * 10\n",
    "\t\tj += 1\n",
    "\treturn j\n",
    "\n",
    "def Euler26():\n",
    "\tlong = 0\n",
    "\tfor i in range(2, 1000):\n",
    "\t\tif i%2 != 0 and i%5 != 0:\n",
    "\t\t\tlength = cycleLength(i)\n",
    "\t\t\tif length > long:\n",
    "\t\t\t\tlong = length\n",
    "\t\t\t\tres = i\n",
    "\treturn res\n",
    "\n",
    "print(Euler26())"
   ]
  },
  {
   "cell_type": "markdown",
   "metadata": {},
   "source": [
    "# Problem 27"
   ]
  },
  {
   "cell_type": "markdown",
   "metadata": {},
   "source": [
    "Euler discovered the remarkable quadratic formula:\n",
    "\n",
    "n2+n+41\n",
    "It turns out that the formula will produce 40 primes for the consecutive integer values 0≤n≤39. However, when n=40,402+40+41=40(40+1)+41 is divisible by 41, and certainly when n=41,412+41+41 is clearly divisible by 41.\n",
    "\n",
    "The incredible formula n2−79n+1601 was discovered, which produces 80 primes for the consecutive values 0≤n≤79. The product of the coefficients, −79 and 1601, is −126479.\n",
    "\n",
    "Considering quadratics of the form:\n",
    "\n",
    "n2+an+bn2+an+b, where |a|<1000 and |b|≤1000\n",
    "\n",
    "where |n| is the modulus/absolute value of n\n",
    "e.g. |11|=11 and |−4|=4\n",
    "Find the product of the coefficients, aa and bb, for the quadratic expression that produces the maximum number of primes for consecutive values of n, starting with n=0."
   ]
  },
  {
   "cell_type": "code",
   "execution_count": null,
   "metadata": {
    "collapsed": true
   },
   "outputs": [],
   "source": []
  }
 ],
 "metadata": {
  "kernelspec": {
   "display_name": "Python 3",
   "language": "python",
   "name": "python3"
  },
  "language_info": {
   "codemirror_mode": {
    "name": "ipython",
    "version": 3
   },
   "file_extension": ".py",
   "mimetype": "text/x-python",
   "name": "python",
   "nbconvert_exporter": "python",
   "pygments_lexer": "ipython3",
   "version": "3.6.0"
  }
 },
 "nbformat": 4,
 "nbformat_minor": 2
}
